{
 "cells": [
  {
   "cell_type": "code",
   "execution_count": 1,
   "id": "02ee7dec",
   "metadata": {},
   "outputs": [],
   "source": [
    "from helper_funcs import find_lack_vars_and_gen_var_dict, print_table\n",
    "import numpy as np\n",
    "import pandas as pd"
   ]
  },
  {
   "cell_type": "markdown",
   "id": "fa73cafa",
   "metadata": {},
   "source": [
    "### <font color='grey'> I. Data Pre-processing</font>"
   ]
  },
  {
   "cell_type": "markdown",
   "id": "0f58f3d5",
   "metadata": {},
   "source": [
    "#### <font color='grey'> §I.1 Identifying null values and dropping columns/rows</font>"
   ]
  },
  {
   "cell_type": "markdown",
   "id": "b84b218d",
   "metadata": {},
   "source": [
    "The first step comes from the particularities of this data set: some columns contain bona fide missing entries while others contain an entry called NA which signifies the known lack of a given house/property feature. To separate out these two types, we need to consult the variable description file."
   ]
  },
  {
   "cell_type": "code",
   "execution_count": 8,
   "id": "4abc60d7",
   "metadata": {},
   "outputs": [],
   "source": [
    "df = pd.read_csv('AmesHousing.csv')\n",
    "cols = list(df.columns)"
   ]
  },
  {
   "cell_type": "code",
   "execution_count": 9,
   "id": "9897655f",
   "metadata": {},
   "outputs": [
    {
     "name": "stdout",
     "output_type": "stream",
     "text": [
      "Feature         None Frac\n",
      " Alley            0.9324232081911262\n",
      " FireplaceQu      0.4853242320819113\n",
      " Pool QC          0.9955631399317406\n",
      " Fence            0.8047781569965871\n",
      " Misc Feature     0.9638225255972697\n"
     ]
    }
   ],
   "source": [
    "var_descr_file = 'VariableDescriptions.txt'\n",
    "lack_vars, var_descrs = find_lack_vars_and_gen_var_dict(var_descr_file)\n",
    "fix_var_names = dict(zip(list(var_descrs.keys()), cols))\n",
    "\n",
    "# Replace `NA` entries w/ `'None'` strings.\n",
    "for var in lack_vars:\n",
    "    var = fix_var_names[var]\n",
    "    df[var] = df[var].apply(lambda x: 'None' if pd.isna(x) else x)\n",
    "\n",
    "# Although we have replaced the NA entries with 'None' strings and have \n",
    "# thus made all corresponding columns completely non-null, there still may \n",
    "# be too large a fraction of such entries to justify keeping such columns.\n",
    "none_thresh = 0.3\n",
    "none_fracs = [df[fix_var_names[var]].value_counts(normalize=True)['None'] for var in lack_vars]\n",
    "none_fracs_dict = dict(zip(lack_vars, none_fracs))\n",
    "lack_thresh_vars = [var for var in lack_vars if none_fracs_dict[var] > none_thresh]\n",
    "none_thresh_fracs = [none_frac for none_frac in none_fracs if none_frac > none_thresh]\n",
    "print_table(['Feature', 'None Frac'], [lack_thresh_vars, none_thresh_fracs])"
   ]
  },
  {
   "cell_type": "markdown",
   "id": "25a5803a",
   "metadata": {},
   "source": [
    "We will immediately drop the `{'Alley', 'Pool QC', 'Fence', 'Misc Feature'}` columns. Although almost half the houses in the dataset lack fireplaces, we will accept this fraction of lack entries and understand later downstream whether this variable is helping in the regression objective."
   ]
  },
  {
   "cell_type": "code",
   "execution_count": 10,
   "id": "b3d2d3ca",
   "metadata": {},
   "outputs": [],
   "source": [
    "drop_cols = ['Alley', 'Pool QC', 'Fence', 'Misc Feature']\n",
    "df.drop(columns=drop_cols, inplace=True)"
   ]
  },
  {
   "cell_type": "code",
   "execution_count": 11,
   "id": "ca4b242b",
   "metadata": {},
   "outputs": [
    {
     "name": "stdout",
     "output_type": "stream",
     "text": [
      "Feature         None Frac\n",
      " FireplaceQu      0.4853242320819113\n"
     ]
    }
   ],
   "source": [
    "lack_thresh_vars = list(set(lack_thresh_vars)-set(drop_cols))\n",
    "none_fracs = [df[fix_var_names[var]].value_counts(normalize=True)['None'] for var in lack_thresh_vars]\n",
    "none_thresh_fracs = [none_frac for none_frac in none_fracs if none_frac > 0.3]\n",
    "print_table(['Feature', 'None Frac'], [lack_thresh_vars, none_thresh_fracs])"
   ]
  },
  {
   "cell_type": "code",
   "execution_count": 27,
   "id": "aa71d8c1",
   "metadata": {},
   "outputs": [
    {
     "name": "stdout",
     "output_type": "stream",
     "text": [
      "Feature         Null Frac       Num Null\n",
      " Lot Frontage     0.1672           490\n",
      " Mas Vnr Type     0.0078           23\n",
      " Mas Vnr Area     0.0078           23\n",
      " BsmtFin SF 1     0.0003           1\n",
      " BsmtFin SF 2     0.0003           1\n",
      " Bsmt Unf SF      0.0003           1\n",
      " Total Bsmt SF    0.0003           1\n",
      " Electrical       0.0003           1\n",
      " Bsmt Full Bath   0.0007           2\n",
      " Bsmt Half Bath   0.0007           2\n",
      " Garage Yr Blt    0.0543           159\n",
      " Garage Cars      0.0003           1\n",
      " Garage Area      0.0003           1\n"
     ]
    }
   ],
   "source": [
    "cols = list(df.columns)\n",
    "bona_fide_nulls = list()\n",
    "for col in cols:\n",
    "    if len(df[col].isnull().value_counts().index.tolist())==2:\n",
    "        bona_fide_nulls.append(col)\n",
    "        \n",
    "null_fracs = [str(np.around(df[col].isnull().value_counts(normalize=True)[True],4)) for col in features]\n",
    "num_nulls = [str(np.around(df[col].isnull().value_counts(normalize=False)[True],4)) for col in features]\n",
    "drop_rows = [df[df[col].isnull()][col].index.tolist() for col in features if df[col].isnull().value_counts(normalize=False)[True] < 25]\n",
    "\n",
    "col_titles = ['Feature', 'Null Frac', 'Num Null']\n",
    "cols = [bona_fide_nulls, null_fracs, num_nulls]\n",
    "print_table(col_titles, cols)"
   ]
  },
  {
   "cell_type": "code",
   "execution_count": 30,
   "id": "f93cd94c",
   "metadata": {},
   "outputs": [],
   "source": [
    "drop_rows = [item for sublist in drop_rows for item in sublist]"
   ]
  },
  {
   "cell_type": "code",
   "execution_count": 31,
   "id": "406b0f72",
   "metadata": {},
   "outputs": [],
   "source": [
    "df.drop(drop_rows, inplace=True)"
   ]
  },
  {
   "cell_type": "code",
   "execution_count": 32,
   "id": "2e453a8f",
   "metadata": {},
   "outputs": [
    {
     "name": "stdout",
     "output_type": "stream",
     "text": [
      "['Lot Frontage', 'Garage Yr Blt']\n"
     ]
    }
   ],
   "source": [
    "bona_fide_nulls = [col for col in bona_fide_nulls if col in list(df.columns) and len(df[col].isnull().value_counts().index.tolist()) > 1]\n",
    "print(bona_fide_nulls)"
   ]
  },
  {
   "cell_type": "markdown",
   "id": "ca2e5582",
   "metadata": {},
   "source": [
    "Since we cannot impute any data without first encoding our categorical variables, we stop here and move on to identifying those categorical variables and carrying out an appropriate one-hot encoding."
   ]
  }
 ],
 "metadata": {
  "kernelspec": {
   "display_name": "Python 3 (ipykernel)",
   "language": "python",
   "name": "python3"
  },
  "language_info": {
   "codemirror_mode": {
    "name": "ipython",
    "version": 3
   },
   "file_extension": ".py",
   "mimetype": "text/x-python",
   "name": "python",
   "nbconvert_exporter": "python",
   "pygments_lexer": "ipython3",
   "version": "3.9.0"
  }
 },
 "nbformat": 4,
 "nbformat_minor": 5
}
