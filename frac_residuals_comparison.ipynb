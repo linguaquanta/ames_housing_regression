{
 "cells": [
  {
   "cell_type": "code",
   "execution_count": 1,
   "id": "dfaf9d6e",
   "metadata": {},
   "outputs": [],
   "source": [
    "from utils import test_train_split\n",
    "from utils import LinearRegression, Metrics\n",
    "from sklearn.preprocessing import PolynomialFeatures\n",
    "import matplotlib.pyplot as plt, numpy as np, pandas as pd, random"
   ]
  },
  {
   "cell_type": "code",
   "execution_count": 2,
   "id": "c7002a51",
   "metadata": {},
   "outputs": [],
   "source": [
    "orig_sale_price_df = pd.read_csv('AmesHousing_NumericalFeatures.csv')\n",
    "norm_prod_df = pd.read_csv('AmesHousing_FirstProductHighCorrNormNumFeatures.csv') # after creating product features\n",
    "norm_corr_df = pd.read_csv('AmesHousing_NumVars_Norm_Corr_Filtered_Log.csv') # before creating product features"
   ]
  },
  {
   "cell_type": "code",
   "execution_count": 3,
   "id": "a6fcd927",
   "metadata": {},
   "outputs": [
    {
     "name": "stdout",
     "output_type": "stream",
     "text": [
      "32\n"
     ]
    }
   ],
   "source": [
    "print(len(orig_sale_price_df.columns)-1)"
   ]
  },
  {
   "cell_type": "code",
   "execution_count": 4,
   "id": "e950460a",
   "metadata": {},
   "outputs": [],
   "source": [
    "sale_prices = list(orig_sale_price_df['SalePrice'].values)\n",
    "log_sale_prices = [np.log(sale_price) for sale_price in sale_prices]\n",
    "\n",
    "max_sale_price = np.max(sale_prices)\n",
    "max_log_sale_price = np.max(log_sale_prices)"
   ]
  },
  {
   "cell_type": "code",
   "execution_count": 5,
   "id": "93622931",
   "metadata": {},
   "outputs": [],
   "source": [
    "def sale_price_from_norm_log_val(norm_log_val):\n",
    "    \n",
    "    ''' Recovers original dollar amount sale price \n",
    "        from normalized logarithm value.'''\n",
    "    \n",
    "    return np.exp(norm_log_val*max_log_sale_price)"
   ]
  },
  {
   "cell_type": "code",
   "execution_count": 6,
   "id": "029789f6",
   "metadata": {},
   "outputs": [],
   "source": [
    "lin_reg_prod, lin_reg_corr = LinearRegression(), LinearRegression()"
   ]
  },
  {
   "cell_type": "code",
   "execution_count": 7,
   "id": "653d8403",
   "metadata": {},
   "outputs": [
    {
     "name": "stdout",
     "output_type": "stream",
     "text": [
      "sse:     0.4355\n",
      "sst:     2.2990\n",
      "mse:     0.0002\n",
      "r^2:     0.8106\n",
      "adj_r^2: 0.8088\n"
     ]
    }
   ],
   "source": [
    "X_corr, y_corr = norm_corr_df.iloc[:,:-1].values, norm_corr_df.iloc[:,-1:].values\n",
    "lin_reg_corr.fit(X_corr, y_corr)\n",
    "metrics = Metrics(X_corr,y_corr,lin_reg_corr)\n",
    "metrics.pretty_print_stats()"
   ]
  },
  {
   "cell_type": "code",
   "execution_count": 8,
   "id": "57c8e267",
   "metadata": {},
   "outputs": [
    {
     "name": "stdout",
     "output_type": "stream",
     "text": [
      "sse:     0.2733\n",
      "sst:     2.2990\n",
      "mse:     0.0001\n",
      "r^2:     0.8811\n",
      "adj_r^2: 0.8717\n"
     ]
    }
   ],
   "source": [
    "X_prod, y_prod = norm_prod_df.iloc[:,:-1].values, norm_prod_df.iloc[:,-1:].values\n",
    "lin_reg_prod.fit(X_prod, y_prod)\n",
    "metrics = Metrics(X_prod,y_prod,lin_reg_prod)\n",
    "metrics.pretty_print_stats()"
   ]
  },
  {
   "cell_type": "markdown",
   "id": "34479350",
   "metadata": {},
   "source": [
    "We can immediately see the improvement in performance resulting from constructing the product features. However, we still need to evaluate the regression performance in each case on unseen data."
   ]
  },
  {
   "cell_type": "code",
   "execution_count": 9,
   "id": "a722f3fb",
   "metadata": {},
   "outputs": [],
   "source": [
    "test_frac = 0.2\n",
    "corr_r_sqs = list()\n",
    "prod_r_sqs = list()\n",
    "\n",
    "for i in range(200):\n",
    "\n",
    "    X_corr_train, y_corr_train, X_corr_test, y_corr_test = test_train_split(norm_corr_df, test_frac)\n",
    "    X_prod_train, y_prod_train, X_prod_test, y_prod_test = test_train_split(norm_prod_df, test_frac)\n",
    "\n",
    "    lin_reg_corr.fit(X_corr_train, y_corr_train)\n",
    "    corr_metrics = Metrics(X_corr_test,y_corr_test,lin_reg_corr)\n",
    "    corr_r_sqs.append(corr_metrics.r_sq())\n",
    "\n",
    "    lin_reg_prod.fit(X_prod_train, y_prod_train)\n",
    "    prod_metrics = Metrics(X_prod_test,y_prod_test,lin_reg_prod)\n",
    "    prod_r_sqs.append(prod_metrics.r_sq())"
   ]
  },
  {
   "cell_type": "code",
   "execution_count": null,
   "id": "4e101998",
   "metadata": {},
   "outputs": [],
   "source": []
  },
  {
   "cell_type": "code",
   "execution_count": 18,
   "id": "9bb7d261",
   "metadata": {},
   "outputs": [
    {
     "data": {
      "image/png": "[encoded data removed]",
      "text/plain": [
       "<Figure size 1008x720 with 1 Axes>"
      ]
     },
     "metadata": {
      "needs_background": "light"
     },
     "output_type": "display_data"
    }
   ],
   "source": [
    "fig, ax = plt.subplots(figsize=(14, 10))\n",
    "pd.Series(corr_r_sqs).hist(bins=19, color='blue', grid=False, label='before prod feats', alpha=0.7)\n",
    "pd.Series(prod_r_sqs).hist(bins=19, color='red', grid=False, label='after prod feats', alpha=0.7)\n",
    "legend = ax.legend(loc='upper left', shadow=True, fontsize='x-large')\n",
    "plt.xlim(0.35, 1.05)\n",
    "plt.ylim(0,55)\n",
    "plt.title('R^2 Values Before/After Generating Product Features', fontsize='x-large')\n",
    "plt.show()"
   ]
  },
  {
   "cell_type": "code",
   "execution_count": 14,
   "id": "0ac46dae",
   "metadata": {},
   "outputs": [
    {
     "data": {
      "text/plain": [
       "(0.7897105813714679, 0.06069677221158237)"
      ]
     },
     "execution_count": 14,
     "metadata": {},
     "output_type": "execute_result"
    }
   ],
   "source": [
    "np.mean(corr_r_sqs), np.std(corr_r_sqs)"
   ]
  },
  {
   "cell_type": "code",
   "execution_count": 15,
   "id": "8012aef2",
   "metadata": {},
   "outputs": [
    {
     "data": {
      "text/plain": [
       "(0.8314993958925774, 0.033039150722946525)"
      ]
     },
     "execution_count": 15,
     "metadata": {},
     "output_type": "execute_result"
    }
   ],
   "source": [
    "np.mean(prod_r_sqs), np.std(prod_r_sqs)"
   ]
  },
  {
   "cell_type": "markdown",
   "id": "083f1367",
   "metadata": {},
   "source": [
    "We see from both the plot and the numbers above that the inclusion of the product features has both increased the mean `R^2` value, by about 5%, and halfed the standard deviation on unseen data. "
   ]
  },
  {
   "cell_type": "markdown",
   "id": "2b40027c",
   "metadata": {},
   "source": [
    "Even if we had not seen the 5% increase in the mean value, it still would have been beneficial to introduce the product features due to the decrease in the standard deviation. In particular, the predictions would have been made more consistent and precise when applied to different chunks of unseen data."
   ]
  },
  {
   "cell_type": "markdown",
   "id": "2ab8fa96",
   "metadata": {},
   "source": [
    "We are lucky in this case and get both improved accuracy and improved precision."
   ]
  },
  {
   "cell_type": "markdown",
   "id": "efa68137",
   "metadata": {},
   "source": [
    "This begs the question: can we repreat this process of generating product features to further introduce non-linearity into the independent features and push up the mean `R^2` value and push down its standard deviation on unseen data?"
   ]
  },
  {
   "cell_type": "markdown",
   "id": "6c9023c3",
   "metadata": {},
   "source": [
    "Attempting to answer this question naïvely by immediately computing the set of all possible unique products of the current 202 features would involve computing 20,281 new columns of a dataframe. This is computationally much more complex than the original 32 numerical features. "
   ]
  },
  {
   "cell_type": "code",
   "execution_count": 76,
   "id": "84b92992",
   "metadata": {},
   "outputs": [
    {
     "data": {
      "text/html": [
       "<div>\n",
       "<style scoped>\n",
       "    .dataframe tbody tr th:only-of-type {\n",
       "        vertical-align: middle;\n",
       "    }\n",
       "\n",
       "    .dataframe tbody tr th {\n",
       "        vertical-align: top;\n",
       "    }\n",
       "\n",
       "    .dataframe thead th {\n",
       "        text-align: right;\n",
       "    }\n",
       "</style>\n",
       "<table border=\"1\" class=\"dataframe\">\n",
       "  <thead>\n",
       "    <tr style=\"text-align: right;\">\n",
       "      <th></th>\n",
       "      <th>Kitchen AbvGr x Open Porch SF</th>\n",
       "      <th>Wood Deck SF</th>\n",
       "      <th>Bedroom AbvGr x Wood Deck SF</th>\n",
       "      <th>Wood Deck SF x Year Remod/Add</th>\n",
       "      <th>Wood Deck SF x Garage Yr Blt</th>\n",
       "      <th>Wood Deck SF x Year Built</th>\n",
       "      <th>Mas Vnr Area x Mas Vnr Area</th>\n",
       "      <th>Lot Area x Total Bsmt SF</th>\n",
       "      <th>Half Bath x Mas Vnr Area</th>\n",
       "      <th>Open Porch SF x Mas Vnr Area</th>\n",
       "      <th>...</th>\n",
       "      <th>Full Bath x Total Bsmt SF</th>\n",
       "      <th>Full Bath x Garage Area</th>\n",
       "      <th>Year Remod/Add x Gr Liv Area</th>\n",
       "      <th>Garage Area x Gr Liv Area</th>\n",
       "      <th>Garage Yr Blt x Gr Liv Area</th>\n",
       "      <th>1st Flr SF x Garage Cars</th>\n",
       "      <th>Year Built x Gr Liv Area</th>\n",
       "      <th>Total Bsmt SF x Garage Cars</th>\n",
       "      <th>Garage Cars x Gr Liv Area</th>\n",
       "      <th>Log SalePrice</th>\n",
       "    </tr>\n",
       "  </thead>\n",
       "  <tbody>\n",
       "    <tr>\n",
       "      <th>0</th>\n",
       "      <td>0.036257</td>\n",
       "      <td>0.147472</td>\n",
       "      <td>0.073736</td>\n",
       "      <td>0.143803</td>\n",
       "      <td>0.143803</td>\n",
       "      <td>0.143803</td>\n",
       "      <td>0.004900</td>\n",
       "      <td>0.026090</td>\n",
       "      <td>0.00000</td>\n",
       "      <td>0.007614</td>\n",
       "      <td>...</td>\n",
       "      <td>0.044190</td>\n",
       "      <td>0.088710</td>\n",
       "      <td>0.286212</td>\n",
       "      <td>0.104150</td>\n",
       "      <td>0.286212</td>\n",
       "      <td>0.130010</td>\n",
       "      <td>0.286212</td>\n",
       "      <td>0.070704</td>\n",
       "      <td>0.117405</td>\n",
       "      <td>0.907194</td>\n",
       "    </tr>\n",
       "    <tr>\n",
       "      <th>1</th>\n",
       "      <td>0.000000</td>\n",
       "      <td>0.098315</td>\n",
       "      <td>0.032772</td>\n",
       "      <td>0.095918</td>\n",
       "      <td>0.095918</td>\n",
       "      <td>0.095918</td>\n",
       "      <td>0.000000</td>\n",
       "      <td>0.007794</td>\n",
       "      <td>0.00000</td>\n",
       "      <td>0.000000</td>\n",
       "      <td>...</td>\n",
       "      <td>0.036088</td>\n",
       "      <td>0.122648</td>\n",
       "      <td>0.154937</td>\n",
       "      <td>0.077910</td>\n",
       "      <td>0.154937</td>\n",
       "      <td>0.035172</td>\n",
       "      <td>0.154937</td>\n",
       "      <td>0.028871</td>\n",
       "      <td>0.031762</td>\n",
       "      <td>0.854242</td>\n",
       "    </tr>\n",
       "    <tr>\n",
       "      <th>2</th>\n",
       "      <td>0.021053</td>\n",
       "      <td>0.275983</td>\n",
       "      <td>0.137992</td>\n",
       "      <td>0.268843</td>\n",
       "      <td>0.268843</td>\n",
       "      <td>0.268843</td>\n",
       "      <td>0.004556</td>\n",
       "      <td>0.014417</td>\n",
       "      <td>0.03375</td>\n",
       "      <td>0.004263</td>\n",
       "      <td>...</td>\n",
       "      <td>0.054378</td>\n",
       "      <td>0.052419</td>\n",
       "      <td>0.229461</td>\n",
       "      <td>0.049391</td>\n",
       "      <td>0.229461</td>\n",
       "      <td>0.052169</td>\n",
       "      <td>0.229461</td>\n",
       "      <td>0.043502</td>\n",
       "      <td>0.047111</td>\n",
       "      <td>0.890707</td>\n",
       "    </tr>\n",
       "    <tr>\n",
       "      <th>3</th>\n",
       "      <td>0.000000</td>\n",
       "      <td>0.000000</td>\n",
       "      <td>0.000000</td>\n",
       "      <td>0.000000</td>\n",
       "      <td>0.000000</td>\n",
       "      <td>0.000000</td>\n",
       "      <td>0.000000</td>\n",
       "      <td>0.017905</td>\n",
       "      <td>0.00000</td>\n",
       "      <td>0.000000</td>\n",
       "      <td>...</td>\n",
       "      <td>0.172668</td>\n",
       "      <td>0.175403</td>\n",
       "      <td>0.366166</td>\n",
       "      <td>0.131195</td>\n",
       "      <td>0.366166</td>\n",
       "      <td>0.165653</td>\n",
       "      <td>0.366166</td>\n",
       "      <td>0.138134</td>\n",
       "      <td>0.149592</td>\n",
       "      <td>0.916543</td>\n",
       "    </tr>\n",
       "    <tr>\n",
       "      <th>4</th>\n",
       "      <td>0.019883</td>\n",
       "      <td>0.148876</td>\n",
       "      <td>0.074438</td>\n",
       "      <td>0.147988</td>\n",
       "      <td>0.147914</td>\n",
       "      <td>0.147914</td>\n",
       "      <td>0.000000</td>\n",
       "      <td>0.009759</td>\n",
       "      <td>0.00000</td>\n",
       "      <td>0.000000</td>\n",
       "      <td>...</td>\n",
       "      <td>0.075941</td>\n",
       "      <td>0.161962</td>\n",
       "      <td>0.287004</td>\n",
       "      <td>0.093526</td>\n",
       "      <td>0.286860</td>\n",
       "      <td>0.072856</td>\n",
       "      <td>0.286860</td>\n",
       "      <td>0.060753</td>\n",
       "      <td>0.115491</td>\n",
       "      <td>0.898022</td>\n",
       "    </tr>\n",
       "  </tbody>\n",
       "</table>\n",
       "<p>5 rows × 203 columns</p>\n",
       "</div>"
      ],
      "text/plain": [
       "   Kitchen AbvGr x Open Porch SF  Wood Deck SF  Bedroom AbvGr x Wood Deck SF  \\\n",
       "0                       0.036257      0.147472                      0.073736   \n",
       "1                       0.000000      0.098315                      0.032772   \n",
       "2                       0.021053      0.275983                      0.137992   \n",
       "3                       0.000000      0.000000                      0.000000   \n",
       "4                       0.019883      0.148876                      0.074438   \n",
       "\n",
       "   Wood Deck SF x Year Remod/Add  Wood Deck SF x Garage Yr Blt  \\\n",
       "0                       0.143803                      0.143803   \n",
       "1                       0.095918                      0.095918   \n",
       "2                       0.268843                      0.268843   \n",
       "3                       0.000000                      0.000000   \n",
       "4                       0.147988                      0.147914   \n",
       "\n",
       "   Wood Deck SF x Year Built  Mas Vnr Area x Mas Vnr Area  \\\n",
       "0                   0.143803                     0.004900   \n",
       "1                   0.095918                     0.000000   \n",
       "2                   0.268843                     0.004556   \n",
       "3                   0.000000                     0.000000   \n",
       "4                   0.147914                     0.000000   \n",
       "\n",
       "   Lot Area x Total Bsmt SF  Half Bath x Mas Vnr Area  \\\n",
       "0                  0.026090                   0.00000   \n",
       "1                  0.007794                   0.00000   \n",
       "2                  0.014417                   0.03375   \n",
       "3                  0.017905                   0.00000   \n",
       "4                  0.009759                   0.00000   \n",
       "\n",
       "   Open Porch SF x Mas Vnr Area  ...  Full Bath x Total Bsmt SF  \\\n",
       "0                      0.007614  ...                   0.044190   \n",
       "1                      0.000000  ...                   0.036088   \n",
       "2                      0.004263  ...                   0.054378   \n",
       "3                      0.000000  ...                   0.172668   \n",
       "4                      0.000000  ...                   0.075941   \n",
       "\n",
       "   Full Bath x Garage Area  Year Remod/Add x Gr Liv Area  \\\n",
       "0                 0.088710                      0.286212   \n",
       "1                 0.122648                      0.154937   \n",
       "2                 0.052419                      0.229461   \n",
       "3                 0.175403                      0.366166   \n",
       "4                 0.161962                      0.287004   \n",
       "\n",
       "   Garage Area x Gr Liv Area  Garage Yr Blt x Gr Liv Area  \\\n",
       "0                   0.104150                     0.286212   \n",
       "1                   0.077910                     0.154937   \n",
       "2                   0.049391                     0.229461   \n",
       "3                   0.131195                     0.366166   \n",
       "4                   0.093526                     0.286860   \n",
       "\n",
       "   1st Flr SF x Garage Cars  Year Built x Gr Liv Area  \\\n",
       "0                  0.130010                  0.286212   \n",
       "1                  0.035172                  0.154937   \n",
       "2                  0.052169                  0.229461   \n",
       "3                  0.165653                  0.366166   \n",
       "4                  0.072856                  0.286860   \n",
       "\n",
       "   Total Bsmt SF x Garage Cars  Garage Cars x Gr Liv Area  Log SalePrice  \n",
       "0                     0.070704                   0.117405       0.907194  \n",
       "1                     0.028871                   0.031762       0.854242  \n",
       "2                     0.043502                   0.047111       0.890707  \n",
       "3                     0.138134                   0.149592       0.916543  \n",
       "4                     0.060753                   0.115491       0.898022  \n",
       "\n",
       "[5 rows x 203 columns]"
      ]
     },
     "execution_count": 76,
     "metadata": {},
     "output_type": "execute_result"
    }
   ],
   "source": [
    "norm_prod_df = pd.read_csv('AmesHousing_FirstProductHighCorrNormNumFeatures.csv') # after creating product features\n",
    "norm_prod_df.head()"
   ]
  },
  {
   "cell_type": "code",
   "execution_count": 77,
   "id": "3e355367",
   "metadata": {},
   "outputs": [],
   "source": [
    "norm_prod_cols = list(norm_prod_df.columns)"
   ]
  },
  {
   "cell_type": "code",
   "execution_count": 79,
   "id": "cc2bde47",
   "metadata": {},
   "outputs": [],
   "source": [
    "feat_pairs = list()\n",
    "for feat_1 in norm_prod_cols:\n",
    "    for feat_2 in norm_prod_cols:\n",
    "        if [feat_1, feat_2] not in feat_pairs and [feat_2, feat_1] not in feat_pairs:\n",
    "            feat_pairs.append([feat_1, feat_2])\n",
    "            norm_prod_df[f'{feat_1} x {feat_2}'] = norm_prod_df[feat_1]*norm_prod_df[feat_2]\n",
    "            \n",
    "# turn this into a function: gen_prod_feats(df)"
   ]
  },
  {
   "cell_type": "code",
   "execution_count": 81,
   "id": "5c3df232",
   "metadata": {},
   "outputs": [
    {
     "data": {
      "text/plain": [
       "20281"
      ]
     },
     "execution_count": 81,
     "metadata": {},
     "output_type": "execute_result"
    }
   ],
   "source": [
    "len(norm_prod_df.columns)"
   ]
  },
  {
   "cell_type": "code",
   "execution_count": null,
   "id": "4ae93cf8",
   "metadata": {},
   "outputs": [],
   "source": [
    "corr_thresh_min = 0.05\n",
    "\n",
    "target_corr_dict = norm_prod_df.corr().iloc[:,-1].to_dict()\n",
    "sort_target_corr = dict(sorted(target_corr_dict.items(), key=lambda item: np.abs(item[1])))\n",
    "high_corr_feats = list({k: v for k,v in sort_target_corr.items() \n",
    "                   if np.abs(v) > corr_thresh_min and k != 'Log SalePrice'}.keys())\n",
    "\n",
    "high_corr_df = norm_prod_df[high_corr_feats+['Log SalePrice']]\n",
    "\n",
    "lin_reg = LinearRegression()\n",
    "X, y = high_corr_df.iloc[:,:-1].values, high_corr_df.iloc[:,-1:].values\n",
    "lin_reg.fit(X, y)\n",
    "metrics = Metrics(X,y,lin_reg)\n",
    "metrics.pretty_print_stats()"
   ]
  },
  {
   "cell_type": "code",
   "execution_count": null,
   "id": "576d1f32",
   "metadata": {},
   "outputs": [],
   "source": []
  }
 ],
 "metadata": {
  "kernelspec": {
   "display_name": "Python 3 (ipykernel)",
   "language": "python",
   "name": "python3"
  },
  "language_info": {
   "codemirror_mode": {
    "name": "ipython",
    "version": 3
   },
   "file_extension": ".py",
   "mimetype": "text/x-python",
   "name": "python",
   "nbconvert_exporter": "python",
   "pygments_lexer": "ipython3",
   "version": "3.9.0"
  }
 },
 "nbformat": 4,
 "nbformat_minor": 5
}
