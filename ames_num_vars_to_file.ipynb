{
 "cells": [
  {
   "cell_type": "markdown",
   "id": "4090db31",
   "metadata": {},
   "source": [
    "In this notebook, I will be extracting the numerical features from the Ames housing data set with a view toward practicing object-orientation while carrying out simple linear regression models and evaluating their performance(s). Although the performance will, of course, not be optimal due to the restriction on the set of features included, the focus here is on quickly obtaining a data set to play with and develop skills all along the pipeline required to furnish quality regression estimates."
   ]
  },
  {
   "cell_type": "code",
   "execution_count": 10,
   "id": "e7691663",
   "metadata": {},
   "outputs": [],
   "source": [
    "import numpy as np, pandas as pd"
   ]
  },
  {
   "cell_type": "code",
   "execution_count": 2,
   "id": "a1ea6b0c",
   "metadata": {},
   "outputs": [],
   "source": [
    "# Variable description file...\n",
    "var_descr_file = 'VariableDescriptions.txt'\n",
    "lines = open(var_descr_file, 'r').readlines()\n",
    "\n",
    "# Data set...\n",
    "df = pd.read_csv('AmesHousing.csv')\n",
    "cols = list(df.columns)"
   ]
  },
  {
   "cell_type": "code",
   "execution_count": 4,
   "id": "b9b31ae4",
   "metadata": {},
   "outputs": [],
   "source": [
    "num_vars, all_vars = list(), list()\n",
    "num_var_types = ['(Discrete)', '(Continuous)']\n",
    "all_var_types = num_var_types + ['(Ordinal)', '(Nominal)']\n",
    "for line in lines:\n",
    "    \n",
    "    var_name = line.split('(')[0].rstrip()\n",
    "    \n",
    "    if any(var_type in line for var_type in num_var_types):\n",
    "            num_vars.append(var_name)\n",
    "            \n",
    "    if any(var_type in line for var_type in all_var_types):\n",
    "            all_vars.append(var_name)"
   ]
  },
  {
   "cell_type": "code",
   "execution_count": 5,
   "id": "3ff08d5c",
   "metadata": {},
   "outputs": [
    {
     "data": {
      "text/plain": [
       "{'Exterior 1': 'Exterior 1st',\n",
       " 'Exterior 2': 'Exterior 2nd',\n",
       " 'BsmtFinType 2': 'BsmtFin Type 2',\n",
       " 'HeatingQC': 'Heating QC',\n",
       " 'Bedroom': 'Bedroom AbvGr',\n",
       " 'Kitchen': 'Kitchen AbvGr',\n",
       " 'KitchenQual': 'Kitchen Qual',\n",
       " 'TotRmsAbvGrd': 'TotRms AbvGrd',\n",
       " 'FireplaceQu': 'Fireplace Qu',\n",
       " '3-Ssn Porch': '3Ssn Porch'}"
      ]
     },
     "execution_count": 5,
     "metadata": {},
     "output_type": "execute_result"
    }
   ],
   "source": [
    "fix_var_names = dict(zip(all_vars, cols))\n",
    "{k: v for k,v in fix_var_names.items() if k != v}"
   ]
  },
  {
   "cell_type": "code",
   "execution_count": 6,
   "id": "976a8752",
   "metadata": {},
   "outputs": [],
   "source": [
    "num_vars = [fix_var_names[num_var] for num_var in num_vars]"
   ]
  },
  {
   "cell_type": "code",
   "execution_count": 7,
   "id": "161490a6",
   "metadata": {},
   "outputs": [],
   "source": [
    "num_df = pd.DataFrame(columns=num_vars)\n",
    "num_cols = list(num_df.columns)\n",
    "for col in num_cols:\n",
    "    num_df[col] = list(df[col].values)"
   ]
  },
  {
   "cell_type": "code",
   "execution_count": 23,
   "id": "90aa5e91",
   "metadata": {},
   "outputs": [],
   "source": [
    "def print_all_null_fracs(df):\n",
    "    print('Feature' + '             ' + 'Null Frac')\n",
    "    for col in list(df.columns):\n",
    "        null_frac_df = df[col].isnull().value_counts(normalize=True)\n",
    "        if len(null_frac_df) > 1:\n",
    "            null_frac = str(np.around(null_frac_df[True], 4))\n",
    "            print(col + ' '*(20-len(col)) + null_frac)"
   ]
  },
  {
   "cell_type": "code",
   "execution_count": 24,
   "id": "2ad8e2cf",
   "metadata": {},
   "outputs": [
    {
     "name": "stdout",
     "output_type": "stream",
     "text": [
      "Feature             Null Frac\n",
      "Lot Frontage        0.1672\n",
      "Mas Vnr Area        0.0078\n",
      "BsmtFin SF 1        0.0003\n",
      "BsmtFin SF 2        0.0003\n",
      "Bsmt Unf SF         0.0003\n",
      "Total Bsmt SF       0.0003\n",
      "Bsmt Full Bath      0.0007\n",
      "Bsmt Half Bath      0.0007\n",
      "Garage Yr Blt       0.0543\n",
      "Garage Cars         0.0003\n",
      "Garage Area         0.0003\n"
     ]
    }
   ],
   "source": [
    "print_all_null_fracs(num_df)"
   ]
  },
  {
   "cell_type": "markdown",
   "id": "dbef06db",
   "metadata": {},
   "source": [
    "I'm making the decision to worry about the imputation of null values later. For now, we drop the `Lot Frontage` feature entirely and locate the unique rows where each of the other features listed above have null values."
   ]
  },
  {
   "cell_type": "code",
   "execution_count": 25,
   "id": "4b52a7a0",
   "metadata": {},
   "outputs": [],
   "source": [
    "num_df.drop(columns=['Order', 'Lot Frontage'], inplace=True)\n",
    "num_cols = list(num_df.columns)"
   ]
  },
  {
   "cell_type": "code",
   "execution_count": 26,
   "id": "77a253a7",
   "metadata": {},
   "outputs": [],
   "source": [
    "drop_row_idxs = list()\n",
    "for col in num_cols:\n",
    "    \n",
    "    if len(set(num_df[col].isnull().values)) == 2:\n",
    "        drop_row_idxs.extend(num_df[num_df[col].isnull()][col].index.values)\n",
    "        \n",
    "drop_row_idxs = list(set(drop_row_idxs))\n",
    "num_df.drop(drop_row_idxs, inplace=True)"
   ]
  },
  {
   "cell_type": "code",
   "execution_count": 27,
   "id": "a7229136",
   "metadata": {},
   "outputs": [
    {
     "data": {
      "text/plain": [
       "'(Number of rows, Number of features): (2747, 33)'"
      ]
     },
     "execution_count": 27,
     "metadata": {},
     "output_type": "execute_result"
    }
   ],
   "source": [
    "f'(Number of rows, Number of features): ({len(num_df)}, {len(num_df.columns)})'"
   ]
  },
  {
   "cell_type": "markdown",
   "id": "f8ad5099",
   "metadata": {},
   "source": [
    "Now we can print this non-null, purely numeric dataframe to CSV."
   ]
  },
  {
   "cell_type": "code",
   "execution_count": 28,
   "id": "cfb8af81",
   "metadata": {},
   "outputs": [],
   "source": [
    "num_df.to_csv('AmesHousing_NumericalFeatures.csv')"
   ]
  }
 ],
 "metadata": {
  "kernelspec": {
   "display_name": "Python 3 (ipykernel)",
   "language": "python",
   "name": "python3"
  },
  "language_info": {
   "codemirror_mode": {
    "name": "ipython",
    "version": 3
   },
   "file_extension": ".py",
   "mimetype": "text/x-python",
   "name": "python",
   "nbconvert_exporter": "python",
   "pygments_lexer": "ipython3",
   "version": "3.9.0"
  }
 },
 "nbformat": 4,
 "nbformat_minor": 5
}
