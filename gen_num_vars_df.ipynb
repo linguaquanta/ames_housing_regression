{
 "cells": [
  {
   "cell_type": "markdown",
   "id": "7047a135",
   "metadata": {},
   "source": [
    "In this notebook, I will be extracting the numerical features from the Ames housing data set with a view toward practicing object-orientation while carrying out simple linear regression models and evaluating their performance(s). Although the performance will, of course, not be optimal due to the restriction on the set of features included, the focus here is on quickly obtaining a data set to play with and develop skills all along the pipeline required to furnish quality regression estimates."
   ]
  },
  {
   "cell_type": "code",
   "execution_count": 1,
   "id": "560eb4ea",
   "metadata": {},
   "outputs": [],
   "source": [
    "from utils import print_null_fracs\n",
    "import numpy as np, pandas as pd"
   ]
  },
  {
   "cell_type": "code",
   "execution_count": 2,
   "id": "46a0fcbf",
   "metadata": {},
   "outputs": [
    {
     "name": "stdout",
     "output_type": "stream",
     "text": [
      "Feature             Null Frac\n",
      "Lot Frontage        0.1672\n",
      "Mas Vnr Area        0.0078\n",
      "BsmtFin SF 1        0.0003\n",
      "BsmtFin SF 2        0.0003\n",
      "Bsmt Unf SF         0.0003\n",
      "Total Bsmt SF       0.0003\n",
      "Bsmt Full Bath      0.0007\n",
      "Bsmt Half Bath      0.0007\n",
      "Garage Yr Blt       0.0543\n",
      "Garage Cars         0.0003\n",
      "Garage Area         0.0003\n"
     ]
    }
   ],
   "source": [
    "num_vars, all_vars = list(), list()\n",
    "num_var_types = ['(Discrete)', '(Continuous)']\n",
    "all_var_types = num_var_types + ['(Ordinal)', '(Nominal)']\n",
    "\n",
    "# Data set...\n",
    "df = pd.read_csv('AmesHousing.csv')\n",
    "cols = list(df.columns)\n",
    "\n",
    "# Variable description file...\n",
    "var_descr_file = 'VariableDescriptions.txt'\n",
    "lines = open(var_descr_file, 'r').readlines()\n",
    "\n",
    "for line in lines:\n",
    "    \n",
    "    var_name = line.split('(')[0].rstrip()\n",
    "    \n",
    "    if any(var_type in line for var_type in all_var_types):\n",
    "        all_vars.append(var_name)\n",
    "    \n",
    "    if any(var_type in line for var_type in num_var_types):\n",
    "            num_vars.append(var_name)\n",
    "            \n",
    "fix_var_names = dict(zip(all_vars, cols))\n",
    "num_vars = [fix_var_names[num_var] for num_var in num_vars]\n",
    "\n",
    "num_df = pd.DataFrame(columns=num_vars)\n",
    "num_cols = list(num_df.columns)\n",
    "\n",
    "for col in num_cols:\n",
    "    num_df[col] = list(df[col].values)\n",
    "    \n",
    "print_null_fracs(num_df)"
   ]
  },
  {
   "cell_type": "markdown",
   "id": "eac88af7",
   "metadata": {},
   "source": [
    "I'm making the decision to worry about the imputation of null values later. For now, we drop the `Lot Frontage` feature entirely and locate the unique rows where each of the other features listed above have null values."
   ]
  },
  {
   "cell_type": "code",
   "execution_count": 3,
   "id": "475f9e6d",
   "metadata": {},
   "outputs": [],
   "source": [
    "num_df.drop(columns=['Order', 'Lot Frontage'], inplace=True)\n",
    "num_cols = list(num_df.columns)\n",
    "\n",
    "drop_row_idxs = list()\n",
    "for col in num_cols:\n",
    "    \n",
    "    if len(set(num_df[col].isnull().values)) == 2:\n",
    "        drop_row_idxs.extend(num_df[num_df[col].isnull()][col].index.values)\n",
    "        \n",
    "drop_row_idxs = list(set(drop_row_idxs))\n",
    "num_df.drop(drop_row_idxs, inplace=True)"
   ]
  },
  {
   "cell_type": "code",
   "execution_count": 4,
   "id": "1e9fcd22",
   "metadata": {},
   "outputs": [
    {
     "data": {
      "text/plain": [
       "'(Number of rows, Number of features): (2747, 33)'"
      ]
     },
     "execution_count": 4,
     "metadata": {},
     "output_type": "execute_result"
    }
   ],
   "source": [
    "f'(Number of rows, Number of features): {num_df.shape}'"
   ]
  },
  {
   "cell_type": "markdown",
   "id": "1528d474",
   "metadata": {},
   "source": [
    "Now we can print this non-null, purely numeric dataframe to CSV."
   ]
  },
  {
   "cell_type": "code",
   "execution_count": 5,
   "id": "8ef241ad",
   "metadata": {},
   "outputs": [],
   "source": [
    "num_df.to_csv('AmesHousing_NumericalFeatures.csv', index=False)"
   ]
  },
  {
   "cell_type": "code",
   "execution_count": null,
   "id": "301766b9",
   "metadata": {},
   "outputs": [],
   "source": []
  }
 ],
 "metadata": {
  "kernelspec": {
   "display_name": "Python 3 (ipykernel)",
   "language": "python",
   "name": "python3"
  },
  "language_info": {
   "codemirror_mode": {
    "name": "ipython",
    "version": 3
   },
   "file_extension": ".py",
   "mimetype": "text/x-python",
   "name": "python",
   "nbconvert_exporter": "python",
   "pygments_lexer": "ipython3",
   "version": "3.9.0"
  }
 },
 "nbformat": 4,
 "nbformat_minor": 5
}
